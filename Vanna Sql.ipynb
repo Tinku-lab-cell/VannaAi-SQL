{
 "cells": [
  {
   "cell_type": "code",
   "execution_count": 5,
   "id": "c97e0bc6-467b-46b4-8556-70f05862c680",
   "metadata": {},
   "outputs": [],
   "source": [
    "import vanna as vn\n",
    "from dotenv import load_dotenv\n",
    "import os"
   ]
  },
  {
   "cell_type": "code",
   "execution_count": 3,
   "id": "e1822217-bb59-4ba8-9ac3-616c991e21fc",
   "metadata": {},
   "outputs": [
    {
     "name": "stdout",
     "output_type": "stream",
     "text": [
      "Requirement already satisfied: vanna in c:\\users\\angeline yuvancy s\\appdata\\local\\programs\\python\\python313\\lib\\site-packages (0.7.6)\n",
      "Requirement already satisfied: requests in c:\\users\\angeline yuvancy s\\appdata\\local\\programs\\python\\python313\\lib\\site-packages (from vanna) (2.32.3)\n",
      "Requirement already satisfied: tabulate in c:\\users\\angeline yuvancy s\\appdata\\local\\programs\\python\\python313\\lib\\site-packages (from vanna) (0.9.0)\n",
      "Requirement already satisfied: plotly in c:\\users\\angeline yuvancy s\\appdata\\local\\programs\\python\\python313\\lib\\site-packages (from vanna) (6.0.0)\n",
      "Requirement already satisfied: pandas in c:\\users\\angeline yuvancy s\\appdata\\local\\programs\\python\\python313\\lib\\site-packages (from vanna) (2.2.3)\n",
      "Requirement already satisfied: sqlparse in c:\\users\\angeline yuvancy s\\appdata\\local\\programs\\python\\python313\\lib\\site-packages (from vanna) (0.5.3)\n",
      "Requirement already satisfied: kaleido in c:\\users\\angeline yuvancy s\\appdata\\local\\programs\\python\\python313\\lib\\site-packages (from vanna) (0.2.1)\n",
      "Requirement already satisfied: flask in c:\\users\\angeline yuvancy s\\appdata\\local\\programs\\python\\python313\\lib\\site-packages (from vanna) (3.1.0)\n",
      "Requirement already satisfied: flask-sock in c:\\users\\angeline yuvancy s\\appdata\\local\\programs\\python\\python313\\lib\\site-packages (from vanna) (0.7.0)\n",
      "Requirement already satisfied: flasgger in c:\\users\\angeline yuvancy s\\appdata\\local\\programs\\python\\python313\\lib\\site-packages (from vanna) (0.9.7.1)\n",
      "Requirement already satisfied: sqlalchemy in c:\\users\\angeline yuvancy s\\appdata\\local\\programs\\python\\python313\\lib\\site-packages (from vanna) (2.0.38)\n",
      "Requirement already satisfied: PyYAML>=3.0 in c:\\users\\angeline yuvancy s\\appdata\\local\\programs\\python\\python313\\lib\\site-packages (from flasgger->vanna) (6.0.2)\n",
      "Requirement already satisfied: jsonschema>=3.0.1 in c:\\users\\angeline yuvancy s\\appdata\\local\\programs\\python\\python313\\lib\\site-packages (from flasgger->vanna) (4.23.0)\n",
      "Requirement already satisfied: mistune in c:\\users\\angeline yuvancy s\\appdata\\local\\programs\\python\\python313\\lib\\site-packages (from flasgger->vanna) (3.1.2)\n",
      "Requirement already satisfied: six>=1.10.0 in c:\\users\\angeline yuvancy s\\appdata\\local\\programs\\python\\python313\\lib\\site-packages (from flasgger->vanna) (1.17.0)\n",
      "Requirement already satisfied: packaging in c:\\users\\angeline yuvancy s\\appdata\\local\\programs\\python\\python313\\lib\\site-packages (from flasgger->vanna) (24.2)\n",
      "Requirement already satisfied: Werkzeug>=3.1 in c:\\users\\angeline yuvancy s\\appdata\\local\\programs\\python\\python313\\lib\\site-packages (from flask->vanna) (3.1.3)\n",
      "Requirement already satisfied: Jinja2>=3.1.2 in c:\\users\\angeline yuvancy s\\appdata\\local\\programs\\python\\python313\\lib\\site-packages (from flask->vanna) (3.1.5)\n",
      "Requirement already satisfied: itsdangerous>=2.2 in c:\\users\\angeline yuvancy s\\appdata\\local\\programs\\python\\python313\\lib\\site-packages (from flask->vanna) (2.2.0)\n",
      "Requirement already satisfied: click>=8.1.3 in c:\\users\\angeline yuvancy s\\appdata\\local\\programs\\python\\python313\\lib\\site-packages (from flask->vanna) (8.1.8)\n",
      "Requirement already satisfied: blinker>=1.9 in c:\\users\\angeline yuvancy s\\appdata\\local\\programs\\python\\python313\\lib\\site-packages (from flask->vanna) (1.9.0)\n",
      "Requirement already satisfied: simple-websocket>=0.5.1 in c:\\users\\angeline yuvancy s\\appdata\\local\\programs\\python\\python313\\lib\\site-packages (from flask-sock->vanna) (1.1.0)\n",
      "Requirement already satisfied: numpy>=1.26.0 in c:\\users\\angeline yuvancy s\\appdata\\local\\programs\\python\\python313\\lib\\site-packages (from pandas->vanna) (2.1.3)\n",
      "Requirement already satisfied: python-dateutil>=2.8.2 in c:\\users\\angeline yuvancy s\\appdata\\local\\programs\\python\\python313\\lib\\site-packages (from pandas->vanna) (2.9.0.post0)\n",
      "Requirement already satisfied: pytz>=2020.1 in c:\\users\\angeline yuvancy s\\appdata\\local\\programs\\python\\python313\\lib\\site-packages (from pandas->vanna) (2024.2)\n",
      "Requirement already satisfied: tzdata>=2022.7 in c:\\users\\angeline yuvancy s\\appdata\\local\\programs\\python\\python313\\lib\\site-packages (from pandas->vanna) (2024.2)\n",
      "Requirement already satisfied: narwhals>=1.15.1 in c:\\users\\angeline yuvancy s\\appdata\\local\\programs\\python\\python313\\lib\\site-packages (from plotly->vanna) (1.30.0)\n",
      "Requirement already satisfied: charset-normalizer<4,>=2 in c:\\users\\angeline yuvancy s\\appdata\\local\\programs\\python\\python313\\lib\\site-packages (from requests->vanna) (3.4.1)\n",
      "Requirement already satisfied: idna<4,>=2.5 in c:\\users\\angeline yuvancy s\\appdata\\local\\programs\\python\\python313\\lib\\site-packages (from requests->vanna) (3.10)\n",
      "Requirement already satisfied: urllib3<3,>=1.21.1 in c:\\users\\angeline yuvancy s\\appdata\\local\\programs\\python\\python313\\lib\\site-packages (from requests->vanna) (2.3.0)\n",
      "Requirement already satisfied: certifi>=2017.4.17 in c:\\users\\angeline yuvancy s\\appdata\\local\\programs\\python\\python313\\lib\\site-packages (from requests->vanna) (2024.12.14)\n",
      "Requirement already satisfied: greenlet!=0.4.17 in c:\\users\\angeline yuvancy s\\appdata\\local\\programs\\python\\python313\\lib\\site-packages (from sqlalchemy->vanna) (3.1.1)\n",
      "Requirement already satisfied: typing-extensions>=4.6.0 in c:\\users\\angeline yuvancy s\\appdata\\local\\programs\\python\\python313\\lib\\site-packages (from sqlalchemy->vanna) (4.12.2)\n",
      "Requirement already satisfied: colorama in c:\\users\\angeline yuvancy s\\appdata\\local\\programs\\python\\python313\\lib\\site-packages (from click>=8.1.3->flask->vanna) (0.4.6)\n",
      "Requirement already satisfied: MarkupSafe>=2.0 in c:\\users\\angeline yuvancy s\\appdata\\local\\programs\\python\\python313\\lib\\site-packages (from Jinja2>=3.1.2->flask->vanna) (3.0.2)\n",
      "Requirement already satisfied: attrs>=22.2.0 in c:\\users\\angeline yuvancy s\\appdata\\local\\programs\\python\\python313\\lib\\site-packages (from jsonschema>=3.0.1->flasgger->vanna) (24.3.0)\n",
      "Requirement already satisfied: jsonschema-specifications>=2023.03.6 in c:\\users\\angeline yuvancy s\\appdata\\local\\programs\\python\\python313\\lib\\site-packages (from jsonschema>=3.0.1->flasgger->vanna) (2024.10.1)\n",
      "Requirement already satisfied: referencing>=0.28.4 in c:\\users\\angeline yuvancy s\\appdata\\local\\programs\\python\\python313\\lib\\site-packages (from jsonschema>=3.0.1->flasgger->vanna) (0.36.2)\n",
      "Requirement already satisfied: rpds-py>=0.7.1 in c:\\users\\angeline yuvancy s\\appdata\\local\\programs\\python\\python313\\lib\\site-packages (from jsonschema>=3.0.1->flasgger->vanna) (0.23.1)\n",
      "Requirement already satisfied: wsproto in c:\\users\\angeline yuvancy s\\appdata\\local\\programs\\python\\python313\\lib\\site-packages (from simple-websocket>=0.5.1->flask-sock->vanna) (1.2.0)\n",
      "Requirement already satisfied: h11<1,>=0.9.0 in c:\\users\\angeline yuvancy s\\appdata\\local\\programs\\python\\python313\\lib\\site-packages (from wsproto->simple-websocket>=0.5.1->flask-sock->vanna) (0.14.0)\n"
     ]
    },
    {
     "name": "stderr",
     "output_type": "stream",
     "text": [
      "\n",
      "[notice] A new release of pip is available: 25.0 -> 25.0.1\n",
      "[notice] To update, run: python.exe -m pip install --upgrade pip\n"
     ]
    }
   ],
   "source": [
    "!pip install vanna"
   ]
  },
  {
   "cell_type": "code",
   "execution_count": 1,
   "id": "e117e28f-ad1c-4803-942a-58e463fca639",
   "metadata": {},
   "outputs": [
    {
     "ename": "NameError",
     "evalue": "name 'load_dotenv' is not defined",
     "output_type": "error",
     "traceback": [
      "\u001b[31m---------------------------------------------------------------------------\u001b[39m",
      "\u001b[31mNameError\u001b[39m                                 Traceback (most recent call last)",
      "\u001b[36mCell\u001b[39m\u001b[36m \u001b[39m\u001b[32mIn[1]\u001b[39m\u001b[32m, line 1\u001b[39m\n\u001b[32m----> \u001b[39m\u001b[32m1\u001b[39m \u001b[43mload_dotenv\u001b[49m()\n",
      "\u001b[31mNameError\u001b[39m: name 'load_dotenv' is not defined"
     ]
    }
   ],
   "source": [
    "load_dotenv()"
   ]
  },
  {
   "cell_type": "code",
   "execution_count": null,
   "id": "2583073e-443b-4fb9-bffb-200d09e3db70",
   "metadata": {},
   "outputs": [],
   "source": []
  }
 ],
 "metadata": {
  "kernelspec": {
   "display_name": "Python 3 (ipykernel)",
   "language": "python",
   "name": "python3"
  },
  "language_info": {
   "codemirror_mode": {
    "name": "ipython",
    "version": 3
   },
   "file_extension": ".py",
   "mimetype": "text/x-python",
   "name": "python",
   "nbconvert_exporter": "python",
   "pygments_lexer": "ipython3",
   "version": "3.13.2"
  }
 },
 "nbformat": 4,
 "nbformat_minor": 5
}
